{
  "cells": [
    {
      "cell_type": "code",
      "execution_count": 1,
      "id": "8cc148dc-d83d-4c32-bbb0-3ffd82ba4e98",
      "metadata": {
        "id": "8cc148dc-d83d-4c32-bbb0-3ffd82ba4e98"
      },
      "outputs": [],
      "source": [
        "import numpy as np\n",
        "import pandas as pd\n",
        "import matplotlib.pyplot as plt\n",
        "\n",
        "from sklearn.linear_model import LinearRegression\n",
        "from sklearn.model_selection import train_test_split\n",
        "from sklearn.metrics import r2_score\n",
        "from sklearn.preprocessing import MinMaxScaler\n",
        "\n",
        "%matplotlib inline"
      ]
    },
    {
      "cell_type": "markdown",
      "id": "e3a06e1e-3bc0-4667-84f3-7e86698c3737",
      "metadata": {
        "id": "e3a06e1e-3bc0-4667-84f3-7e86698c3737"
      },
      "source": [
        "# Загружаем выборку Diamonds"
      ]
    },
    {
      "cell_type": "markdown",
      "id": "c731a143-3dc9-43e7-96f5-b1eff9093345",
      "metadata": {
        "id": "c731a143-3dc9-43e7-96f5-b1eff9093345"
      },
      "source": [
        "1. PRICE: price in US dollars (326-18,823)\n",
        "2. CARAT: weight of the diamond (0.2--5.01)\n",
        "3. CUT: quality of the cut (Fair, Good, Very Good, Premium, Ideal)\n",
        "4. COLOR: diamond colour, from J (worst) to D (best)\n",
        "5. CLARITY: a measurement of how clear the diamond is (I1 (worst), SI2, SI1, VS2, VS1, VVS2, VVS1, IF (best))\n",
        "6. X: length in mm (0--10.74)\n",
        "7. Y: width in mm (0--58.9)\n",
        "8. Z: depth in mm (0--31.8)\n",
        "9. DEPTH: total depth percentage = z / mean(x, y) = 2 * z / (x + y) (43--79)\n",
        "10. TABLE: width of top of diamond relative to widest point (43--95)"
      ]
    },
    {
      "cell_type": "code",
      "execution_count": 16,
      "id": "0f24cf86-653a-422b-9df1-8029fdccf153",
      "metadata": {
        "id": "0f24cf86-653a-422b-9df1-8029fdccf153"
      },
      "outputs": [],
      "source": [
        "diamonds_df = pd.read_csv('diamonds.csv')"
      ]
    },
    {
      "cell_type": "code",
      "execution_count": 17,
      "id": "70d9ccfe-e1cf-4c90-a5ab-40ae0852f1ce",
      "metadata": {
        "colab": {
          "base_uri": "https://localhost:8080/",
          "height": 206
        },
        "id": "70d9ccfe-e1cf-4c90-a5ab-40ae0852f1ce",
        "outputId": "d7394275-ca89-4908-80fe-08c9e4df979d"
      },
      "outputs": [
        {
          "output_type": "execute_result",
          "data": {
            "text/plain": [
              "   Unnamed: 0  carat      cut color clarity  depth  table  price     x     y  \\\n",
              "0           1   0.23    Ideal     E     SI2   61.5   55.0    326  3.95  3.98   \n",
              "1           2   0.21  Premium     E     SI1   59.8   61.0    326  3.89  3.84   \n",
              "2           3   0.23     Good     E     VS1   56.9   65.0    327  4.05  4.07   \n",
              "3           4   0.29  Premium     I     VS2   62.4   58.0    334  4.20  4.23   \n",
              "4           5   0.31     Good     J     SI2   63.3   58.0    335  4.34  4.35   \n",
              "\n",
              "      z  \n",
              "0  2.43  \n",
              "1  2.31  \n",
              "2  2.31  \n",
              "3  2.63  \n",
              "4  2.75  "
            ],
            "text/html": [
              "\n",
              "  <div id=\"df-e7c68252-85ae-4ac6-8b18-9c4a17e0110a\" class=\"colab-df-container\">\n",
              "    <div>\n",
              "<style scoped>\n",
              "    .dataframe tbody tr th:only-of-type {\n",
              "        vertical-align: middle;\n",
              "    }\n",
              "\n",
              "    .dataframe tbody tr th {\n",
              "        vertical-align: top;\n",
              "    }\n",
              "\n",
              "    .dataframe thead th {\n",
              "        text-align: right;\n",
              "    }\n",
              "</style>\n",
              "<table border=\"1\" class=\"dataframe\">\n",
              "  <thead>\n",
              "    <tr style=\"text-align: right;\">\n",
              "      <th></th>\n",
              "      <th>Unnamed: 0</th>\n",
              "      <th>carat</th>\n",
              "      <th>cut</th>\n",
              "      <th>color</th>\n",
              "      <th>clarity</th>\n",
              "      <th>depth</th>\n",
              "      <th>table</th>\n",
              "      <th>price</th>\n",
              "      <th>x</th>\n",
              "      <th>y</th>\n",
              "      <th>z</th>\n",
              "    </tr>\n",
              "  </thead>\n",
              "  <tbody>\n",
              "    <tr>\n",
              "      <th>0</th>\n",
              "      <td>1</td>\n",
              "      <td>0.23</td>\n",
              "      <td>Ideal</td>\n",
              "      <td>E</td>\n",
              "      <td>SI2</td>\n",
              "      <td>61.5</td>\n",
              "      <td>55.0</td>\n",
              "      <td>326</td>\n",
              "      <td>3.95</td>\n",
              "      <td>3.98</td>\n",
              "      <td>2.43</td>\n",
              "    </tr>\n",
              "    <tr>\n",
              "      <th>1</th>\n",
              "      <td>2</td>\n",
              "      <td>0.21</td>\n",
              "      <td>Premium</td>\n",
              "      <td>E</td>\n",
              "      <td>SI1</td>\n",
              "      <td>59.8</td>\n",
              "      <td>61.0</td>\n",
              "      <td>326</td>\n",
              "      <td>3.89</td>\n",
              "      <td>3.84</td>\n",
              "      <td>2.31</td>\n",
              "    </tr>\n",
              "    <tr>\n",
              "      <th>2</th>\n",
              "      <td>3</td>\n",
              "      <td>0.23</td>\n",
              "      <td>Good</td>\n",
              "      <td>E</td>\n",
              "      <td>VS1</td>\n",
              "      <td>56.9</td>\n",
              "      <td>65.0</td>\n",
              "      <td>327</td>\n",
              "      <td>4.05</td>\n",
              "      <td>4.07</td>\n",
              "      <td>2.31</td>\n",
              "    </tr>\n",
              "    <tr>\n",
              "      <th>3</th>\n",
              "      <td>4</td>\n",
              "      <td>0.29</td>\n",
              "      <td>Premium</td>\n",
              "      <td>I</td>\n",
              "      <td>VS2</td>\n",
              "      <td>62.4</td>\n",
              "      <td>58.0</td>\n",
              "      <td>334</td>\n",
              "      <td>4.20</td>\n",
              "      <td>4.23</td>\n",
              "      <td>2.63</td>\n",
              "    </tr>\n",
              "    <tr>\n",
              "      <th>4</th>\n",
              "      <td>5</td>\n",
              "      <td>0.31</td>\n",
              "      <td>Good</td>\n",
              "      <td>J</td>\n",
              "      <td>SI2</td>\n",
              "      <td>63.3</td>\n",
              "      <td>58.0</td>\n",
              "      <td>335</td>\n",
              "      <td>4.34</td>\n",
              "      <td>4.35</td>\n",
              "      <td>2.75</td>\n",
              "    </tr>\n",
              "  </tbody>\n",
              "</table>\n",
              "</div>\n",
              "    <div class=\"colab-df-buttons\">\n",
              "\n",
              "  <div class=\"colab-df-container\">\n",
              "    <button class=\"colab-df-convert\" onclick=\"convertToInteractive('df-e7c68252-85ae-4ac6-8b18-9c4a17e0110a')\"\n",
              "            title=\"Convert this dataframe to an interactive table.\"\n",
              "            style=\"display:none;\">\n",
              "\n",
              "  <svg xmlns=\"http://www.w3.org/2000/svg\" height=\"24px\" viewBox=\"0 -960 960 960\">\n",
              "    <path d=\"M120-120v-720h720v720H120Zm60-500h600v-160H180v160Zm220 220h160v-160H400v160Zm0 220h160v-160H400v160ZM180-400h160v-160H180v160Zm440 0h160v-160H620v160ZM180-180h160v-160H180v160Zm440 0h160v-160H620v160Z\"/>\n",
              "  </svg>\n",
              "    </button>\n",
              "\n",
              "  <style>\n",
              "    .colab-df-container {\n",
              "      display:flex;\n",
              "      gap: 12px;\n",
              "    }\n",
              "\n",
              "    .colab-df-convert {\n",
              "      background-color: #E8F0FE;\n",
              "      border: none;\n",
              "      border-radius: 50%;\n",
              "      cursor: pointer;\n",
              "      display: none;\n",
              "      fill: #1967D2;\n",
              "      height: 32px;\n",
              "      padding: 0 0 0 0;\n",
              "      width: 32px;\n",
              "    }\n",
              "\n",
              "    .colab-df-convert:hover {\n",
              "      background-color: #E2EBFA;\n",
              "      box-shadow: 0px 1px 2px rgba(60, 64, 67, 0.3), 0px 1px 3px 1px rgba(60, 64, 67, 0.15);\n",
              "      fill: #174EA6;\n",
              "    }\n",
              "\n",
              "    .colab-df-buttons div {\n",
              "      margin-bottom: 4px;\n",
              "    }\n",
              "\n",
              "    [theme=dark] .colab-df-convert {\n",
              "      background-color: #3B4455;\n",
              "      fill: #D2E3FC;\n",
              "    }\n",
              "\n",
              "    [theme=dark] .colab-df-convert:hover {\n",
              "      background-color: #434B5C;\n",
              "      box-shadow: 0px 1px 3px 1px rgba(0, 0, 0, 0.15);\n",
              "      filter: drop-shadow(0px 1px 2px rgba(0, 0, 0, 0.3));\n",
              "      fill: #FFFFFF;\n",
              "    }\n",
              "  </style>\n",
              "\n",
              "    <script>\n",
              "      const buttonEl =\n",
              "        document.querySelector('#df-e7c68252-85ae-4ac6-8b18-9c4a17e0110a button.colab-df-convert');\n",
              "      buttonEl.style.display =\n",
              "        google.colab.kernel.accessAllowed ? 'block' : 'none';\n",
              "\n",
              "      async function convertToInteractive(key) {\n",
              "        const element = document.querySelector('#df-e7c68252-85ae-4ac6-8b18-9c4a17e0110a');\n",
              "        const dataTable =\n",
              "          await google.colab.kernel.invokeFunction('convertToInteractive',\n",
              "                                                    [key], {});\n",
              "        if (!dataTable) return;\n",
              "\n",
              "        const docLinkHtml = 'Like what you see? Visit the ' +\n",
              "          '<a target=\"_blank\" href=https://colab.research.google.com/notebooks/data_table.ipynb>data table notebook</a>'\n",
              "          + ' to learn more about interactive tables.';\n",
              "        element.innerHTML = '';\n",
              "        dataTable['output_type'] = 'display_data';\n",
              "        await google.colab.output.renderOutput(dataTable, element);\n",
              "        const docLink = document.createElement('div');\n",
              "        docLink.innerHTML = docLinkHtml;\n",
              "        element.appendChild(docLink);\n",
              "      }\n",
              "    </script>\n",
              "  </div>\n",
              "\n",
              "\n",
              "<div id=\"df-39a8136c-1f7f-4655-9c46-eda19cc0dbd2\">\n",
              "  <button class=\"colab-df-quickchart\" onclick=\"quickchart('df-39a8136c-1f7f-4655-9c46-eda19cc0dbd2')\"\n",
              "            title=\"Suggest charts.\"\n",
              "            style=\"display:none;\">\n",
              "\n",
              "<svg xmlns=\"http://www.w3.org/2000/svg\" height=\"24px\"viewBox=\"0 0 24 24\"\n",
              "     width=\"24px\">\n",
              "    <g>\n",
              "        <path d=\"M19 3H5c-1.1 0-2 .9-2 2v14c0 1.1.9 2 2 2h14c1.1 0 2-.9 2-2V5c0-1.1-.9-2-2-2zM9 17H7v-7h2v7zm4 0h-2V7h2v10zm4 0h-2v-4h2v4z\"/>\n",
              "    </g>\n",
              "</svg>\n",
              "  </button>\n",
              "\n",
              "<style>\n",
              "  .colab-df-quickchart {\n",
              "      --bg-color: #E8F0FE;\n",
              "      --fill-color: #1967D2;\n",
              "      --hover-bg-color: #E2EBFA;\n",
              "      --hover-fill-color: #174EA6;\n",
              "      --disabled-fill-color: #AAA;\n",
              "      --disabled-bg-color: #DDD;\n",
              "  }\n",
              "\n",
              "  [theme=dark] .colab-df-quickchart {\n",
              "      --bg-color: #3B4455;\n",
              "      --fill-color: #D2E3FC;\n",
              "      --hover-bg-color: #434B5C;\n",
              "      --hover-fill-color: #FFFFFF;\n",
              "      --disabled-bg-color: #3B4455;\n",
              "      --disabled-fill-color: #666;\n",
              "  }\n",
              "\n",
              "  .colab-df-quickchart {\n",
              "    background-color: var(--bg-color);\n",
              "    border: none;\n",
              "    border-radius: 50%;\n",
              "    cursor: pointer;\n",
              "    display: none;\n",
              "    fill: var(--fill-color);\n",
              "    height: 32px;\n",
              "    padding: 0;\n",
              "    width: 32px;\n",
              "  }\n",
              "\n",
              "  .colab-df-quickchart:hover {\n",
              "    background-color: var(--hover-bg-color);\n",
              "    box-shadow: 0 1px 2px rgba(60, 64, 67, 0.3), 0 1px 3px 1px rgba(60, 64, 67, 0.15);\n",
              "    fill: var(--button-hover-fill-color);\n",
              "  }\n",
              "\n",
              "  .colab-df-quickchart-complete:disabled,\n",
              "  .colab-df-quickchart-complete:disabled:hover {\n",
              "    background-color: var(--disabled-bg-color);\n",
              "    fill: var(--disabled-fill-color);\n",
              "    box-shadow: none;\n",
              "  }\n",
              "\n",
              "  .colab-df-spinner {\n",
              "    border: 2px solid var(--fill-color);\n",
              "    border-color: transparent;\n",
              "    border-bottom-color: var(--fill-color);\n",
              "    animation:\n",
              "      spin 1s steps(1) infinite;\n",
              "  }\n",
              "\n",
              "  @keyframes spin {\n",
              "    0% {\n",
              "      border-color: transparent;\n",
              "      border-bottom-color: var(--fill-color);\n",
              "      border-left-color: var(--fill-color);\n",
              "    }\n",
              "    20% {\n",
              "      border-color: transparent;\n",
              "      border-left-color: var(--fill-color);\n",
              "      border-top-color: var(--fill-color);\n",
              "    }\n",
              "    30% {\n",
              "      border-color: transparent;\n",
              "      border-left-color: var(--fill-color);\n",
              "      border-top-color: var(--fill-color);\n",
              "      border-right-color: var(--fill-color);\n",
              "    }\n",
              "    40% {\n",
              "      border-color: transparent;\n",
              "      border-right-color: var(--fill-color);\n",
              "      border-top-color: var(--fill-color);\n",
              "    }\n",
              "    60% {\n",
              "      border-color: transparent;\n",
              "      border-right-color: var(--fill-color);\n",
              "    }\n",
              "    80% {\n",
              "      border-color: transparent;\n",
              "      border-right-color: var(--fill-color);\n",
              "      border-bottom-color: var(--fill-color);\n",
              "    }\n",
              "    90% {\n",
              "      border-color: transparent;\n",
              "      border-bottom-color: var(--fill-color);\n",
              "    }\n",
              "  }\n",
              "</style>\n",
              "\n",
              "  <script>\n",
              "    async function quickchart(key) {\n",
              "      const quickchartButtonEl =\n",
              "        document.querySelector('#' + key + ' button');\n",
              "      quickchartButtonEl.disabled = true;  // To prevent multiple clicks.\n",
              "      quickchartButtonEl.classList.add('colab-df-spinner');\n",
              "      try {\n",
              "        const charts = await google.colab.kernel.invokeFunction(\n",
              "            'suggestCharts', [key], {});\n",
              "      } catch (error) {\n",
              "        console.error('Error during call to suggestCharts:', error);\n",
              "      }\n",
              "      quickchartButtonEl.classList.remove('colab-df-spinner');\n",
              "      quickchartButtonEl.classList.add('colab-df-quickchart-complete');\n",
              "    }\n",
              "    (() => {\n",
              "      let quickchartButtonEl =\n",
              "        document.querySelector('#df-39a8136c-1f7f-4655-9c46-eda19cc0dbd2 button');\n",
              "      quickchartButtonEl.style.display =\n",
              "        google.colab.kernel.accessAllowed ? 'block' : 'none';\n",
              "    })();\n",
              "  </script>\n",
              "</div>\n",
              "    </div>\n",
              "  </div>\n"
            ]
          },
          "metadata": {},
          "execution_count": 17
        }
      ],
      "source": [
        "diamonds_df.head()"
      ]
    },
    {
      "cell_type": "code",
      "execution_count": 18,
      "id": "2c733aed-97cb-4450-b833-d0fadd637037",
      "metadata": {
        "colab": {
          "base_uri": "https://localhost:8080/"
        },
        "id": "2c733aed-97cb-4450-b833-d0fadd637037",
        "outputId": "1f0f1448-d567-491d-a7a4-64785cd8cb9e"
      },
      "outputs": [
        {
          "output_type": "execute_result",
          "data": {
            "text/plain": [
              "(53940, 11)"
            ]
          },
          "metadata": {},
          "execution_count": 18
        }
      ],
      "source": [
        "diamonds_df.shape"
      ]
    },
    {
      "cell_type": "code",
      "execution_count": 19,
      "id": "fad21c95-f542-44ec-8f06-8f57fd42ddef",
      "metadata": {
        "colab": {
          "base_uri": "https://localhost:8080/",
          "height": 430
        },
        "id": "fad21c95-f542-44ec-8f06-8f57fd42ddef",
        "outputId": "779d4799-f345-4a7e-c1f3-dea4e213eaf3"
      },
      "outputs": [
        {
          "output_type": "display_data",
          "data": {
            "text/plain": [
              "<Figure size 640x480 with 1 Axes>"
            ],
            "image/png": "[encoded data removed]"
          },
          "metadata": {}
        }
      ],
      "source": [
        "plt.hist(diamonds_df['price'], bins=100)\n",
        "plt.grid();"
      ]
    },
    {
      "cell_type": "markdown",
      "id": "17ac44bb-86c7-424a-8b9b-0a21bf490683",
      "metadata": {
        "id": "17ac44bb-86c7-424a-8b9b-0a21bf490683"
      },
      "source": [
        "# Подготовка данных"
      ]
    },
    {
      "cell_type": "code",
      "execution_count": 20,
      "id": "e19945ea-cecf-481e-a28b-3f9c11001918",
      "metadata": {
        "id": "e19945ea-cecf-481e-a28b-3f9c11001918"
      },
      "outputs": [],
      "source": [
        "features = ['carat', 'cut', 'color', 'clarity', 'depth', 'table', 'x', 'y', 'z']\n",
        "target = ['price']"
      ]
    },
    {
      "cell_type": "code",
      "execution_count": 21,
      "id": "fbc43eb0-e77f-4765-8b0e-b9052c093855",
      "metadata": {
        "id": "fbc43eb0-e77f-4765-8b0e-b9052c093855"
      },
      "outputs": [],
      "source": [
        "cut_transform = {'Fair': 0, 'Good': 1, 'Very Good': 2, 'Premium': 3, 'Ideal': 4}\n",
        "clarity_transform = {'I1': 0, 'SI2': 1, 'SI1': 2, 'VS2': 3, 'VS1': 4, 'VVS2': 5, 'VVS1': 6, 'IF': 7}\n",
        "color_transorm = {'D': 0, 'E': 1, 'F': 2, 'G': 3, 'H': 4, 'I': 5, 'J': 6}"
      ]
    },
    {
      "cell_type": "code",
      "execution_count": 22,
      "id": "6f82b34f-9ffc-478f-a103-b2cbbca49a94",
      "metadata": {
        "id": "6f82b34f-9ffc-478f-a103-b2cbbca49a94"
      },
      "outputs": [],
      "source": [
        "diamonds_df['cut'] = diamonds_df['cut'].apply(lambda x: cut_transform.get(x))\n",
        "diamonds_df['color'] = diamonds_df['color'].apply(lambda x: color_transorm.get(x))\n",
        "diamonds_df['clarity'] = diamonds_df['clarity'].apply(lambda x: clarity_transform.get(x))"
      ]
    },
    {
      "cell_type": "code",
      "execution_count": 23,
      "id": "8e5fa82b-92ed-4e79-adf2-422204b45e82",
      "metadata": {
        "id": "8e5fa82b-92ed-4e79-adf2-422204b45e82"
      },
      "outputs": [],
      "source": [
        "X = diamonds_df[features].copy().values\n",
        "y = diamonds_df[target].values"
      ]
    },
    {
      "cell_type": "code",
      "execution_count": 24,
      "id": "baafcd96-b32e-469e-b354-fa0aba09db8f",
      "metadata": {
        "id": "baafcd96-b32e-469e-b354-fa0aba09db8f"
      },
      "outputs": [],
      "source": [
        "scaler = MinMaxScaler()\n",
        "X = scaler.fit_transform(X)"
      ]
    },
    {
      "cell_type": "code",
      "execution_count": 25,
      "id": "64c11d68-dc5c-4753-9cc4-3cc4e136f3cb",
      "metadata": {
        "id": "64c11d68-dc5c-4753-9cc4-3cc4e136f3cb"
      },
      "outputs": [],
      "source": [
        "X_train, X_test, y_train, y_test = train_test_split(X, y, random_state=47, test_size=0.3)"
      ]
    },
    {
      "cell_type": "markdown",
      "id": "3b743ed1-d0cf-485d-b8f2-8c71fc174e8b",
      "metadata": {
        "id": "3b743ed1-d0cf-485d-b8f2-8c71fc174e8b"
      },
      "source": [
        "# Обучаем модель линейной регрессии"
      ]
    },
    {
      "cell_type": "code",
      "execution_count": 26,
      "id": "0068e36f-040e-4aa3-bb06-88aa95051478",
      "metadata": {
        "id": "0068e36f-040e-4aa3-bb06-88aa95051478"
      },
      "outputs": [],
      "source": [
        "reg = LinearRegression().fit(X_train, y_train)"
      ]
    },
    {
      "cell_type": "code",
      "execution_count": 27,
      "id": "f968e336-4049-41b2-81d1-4c24f0969bbb",
      "metadata": {
        "id": "f968e336-4049-41b2-81d1-4c24f0969bbb"
      },
      "outputs": [],
      "source": [
        "y_pred = reg.predict(X_test)"
      ]
    },
    {
      "cell_type": "code",
      "execution_count": 28,
      "id": "0952990a-b3d6-4da4-9cc6-1ab3a7a25ac7",
      "metadata": {
        "id": "0952990a-b3d6-4da4-9cc6-1ab3a7a25ac7"
      },
      "outputs": [],
      "source": [
        "score = r2_score(y_pred, y_test)"
      ]
    },
    {
      "cell_type": "code",
      "execution_count": 29,
      "id": "f89c3bbd-0a3a-48ac-b1ab-b75dc0c5bcce",
      "metadata": {
        "colab": {
          "base_uri": "https://localhost:8080/",
          "height": 452
        },
        "id": "f89c3bbd-0a3a-48ac-b1ab-b75dc0c5bcce",
        "outputId": "4ef36003-9ab0-4a6c-9661-f12601de86b2"
      },
      "outputs": [
        {
          "output_type": "display_data",
          "data": {
            "text/plain": [
              "<Figure size 640x480 with 1 Axes>"
            ],
            "image/png": "[encoded data removed]"
          },
          "metadata": {}
        }
      ],
      "source": [
        "plt.title(f'R2: {str(score)[:5]}')\n",
        "plt.hist(y_pred.reshape(1, -1)[0], bins=100, label='PREDICTION')\n",
        "plt.hist(y_test.reshape(1, -1)[0], bins=100, label='GT')\n",
        "plt.legend()\n",
        "plt.grid();"
      ]
    },
    {
      "cell_type": "code",
      "execution_count": 30,
      "id": "76149fd5-9722-4076-a44f-b01deacce0c3",
      "metadata": {
        "colab": {
          "base_uri": "https://localhost:8080/"
        },
        "id": "76149fd5-9722-4076-a44f-b01deacce0c3",
        "outputId": "7f9f53c5-cebb-4395-e199-7bf4f4562758"
      },
      "outputs": [
        {
          "output_type": "execute_result",
          "data": {
            "text/plain": [
              "((37758, 9), (37758, 100))"
            ]
          },
          "metadata": {},
          "execution_count": 30
        }
      ],
      "source": [
        "X_train.shape , (37758, 100)"
      ]
    },
    {
      "cell_type": "markdown",
      "id": "7886f8b7-ba2e-4fde-8b91-f815ea961fe5",
      "metadata": {
        "id": "7886f8b7-ba2e-4fde-8b91-f815ea961fe5"
      },
      "source": [
        "# Создаём модель MLP для задачи регрессии"
      ]
    },
    {
      "cell_type": "code",
      "execution_count": 31,
      "id": "fbe9a141-daa8-47ab-bb48-b27bb6190020",
      "metadata": {
        "id": "fbe9a141-daa8-47ab-bb48-b27bb6190020"
      },
      "outputs": [],
      "source": [
        "# y(batch, output) =  x(batch, input) * w(input, output) + bias(batch, output)\n",
        "\n",
        "class LinearLayer:\n",
        "    def __init__(\n",
        "        self,\n",
        "        input_size,\n",
        "        output_size,\n",
        "    ):\n",
        "        self.input_size = input_size\n",
        "        self.output_size = output_size\n",
        "        # initialization by Kaiming He for ReLU\n",
        "        scale = np.sqrt(2 / self.input_size)\n",
        "        self.W = np.random.normal(0, scale, (self.input_size, self.output_size))\n",
        "\n",
        "        self.b = None\n",
        "\n",
        "    def forward(self, X):\n",
        "        self.X = np.array(X)\n",
        "\n",
        "        if self.b is None:\n",
        "            self.b = np.zeros((X.shape[0], self.output_size))\n",
        "\n",
        "        self.Y = self.X @ self.W + self.b\n",
        "        return self.Y\n",
        "\n",
        "    def backward(self, dLdy):\n",
        "        # just in case\n",
        "        dLdy = np.array(dLdy)\n",
        "        # dL/db = dL/dy * dy/db = dL/dy\n",
        "        self.dLdb = dLdy\n",
        "        # (inp, out) = (inp ,batch) * (batch, outp)\n",
        "        self.dLdw = self.X.T @ dLdy\n",
        "        dLdx = dLdy @ self.W.T\n",
        "        return dLdx\n",
        "\n",
        "    def step(self, lr):\n",
        "        self.W -= lr * self.dLdw\n",
        "        self.b -= lr * self.dLdb\n",
        "\n",
        "\n",
        ""
      ]
    },
    {
      "cell_type": "markdown",
      "id": "b07c6f02-e0b7-48ad-b737-afa7e3482a9b",
      "metadata": {
        "id": "b07c6f02-e0b7-48ad-b737-afa7e3482a9b"
      },
      "source": [
        "![image.png](attachment:56485b99-d0b6-4b68-a49c-dd92cf60a301.png)"
      ]
    },
    {
      "cell_type": "code",
      "execution_count": 32,
      "id": "e6cf13fb-0341-4829-bf16-f1079e22d40e",
      "metadata": {
        "id": "e6cf13fb-0341-4829-bf16-f1079e22d40e"
      },
      "outputs": [],
      "source": [
        "def calculate_gradient(function, X, eps = 1e-10):\n",
        "    if len(X.shape) < 2:\n",
        "        X = np.expand_dims(X, axis = -1)\n",
        "\n",
        "    numerical_gradient_X = np.zeros(X.shape)\n",
        "\n",
        "    for i in range(X.shape[0]):\n",
        "        for j in range(X.shape[1]):\n",
        "            X[i,j] += eps\n",
        "            f_plus = function(X)\n",
        "            X[i,j] -= eps\n",
        "\n",
        "            X[i,j] -= eps\n",
        "            f_minus = function(X)\n",
        "            X[i,j] += eps\n",
        "\n",
        "            numerical_gradient_X[i, j] = (f_plus - f_minus) / (2*eps)\n",
        "    return numerical_gradient_X"
      ]
    },
    {
      "cell_type": "markdown",
      "id": "eaf12d4d-38da-450f-8386-385de86cdfa6",
      "metadata": {
        "id": "eaf12d4d-38da-450f-8386-385de86cdfa6"
      },
      "source": [
        "### TESTS_MY_LINEAR"
      ]
    },
    {
      "cell_type": "code",
      "execution_count": 33,
      "id": "b9f9499c-1fac-4f76-93ed-be05235fb349",
      "metadata": {
        "id": "b9f9499c-1fac-4f76-93ed-be05235fb349"
      },
      "outputs": [],
      "source": [
        "linear = LinearLayer(10, 5)"
      ]
    },
    {
      "cell_type": "code",
      "execution_count": 34,
      "id": "38da99a9-468d-4e1b-9ab0-be2a3d43e149",
      "metadata": {
        "colab": {
          "base_uri": "https://localhost:8080/"
        },
        "id": "38da99a9-468d-4e1b-9ab0-be2a3d43e149",
        "outputId": "6498e944-ea4e-4caa-d3bd-530826839b3d"
      },
      "outputs": [
        {
          "output_type": "stream",
          "name": "stdout",
          "text": [
            "x_samples = array([[0.27954095, 0.17391583, 0.93485397, 0.94923865, 0.90969581,\n",
            "        0.88200889, 0.44080535, 0.59534922, 0.6892417 , 0.94944602]]) x_samples.shape =(1, 10)\n",
            "y_forward = array([[ 0.81684114,  1.14245302,  0.90387602, -0.67388452, -0.46200693]])\n",
            "target = 0.34545574593495065\n"
          ]
        }
      ],
      "source": [
        "# sampling\n",
        "x_samples = np.random.random_sample((1, 10))\n",
        "print(f\"{x_samples = }\", f\"{x_samples.shape =}\")\n",
        "\n",
        "# test forward\n",
        "y_forward = linear.forward(x_samples)\n",
        "print(f\"{y_forward = }\")\n",
        "\n",
        "target = np.mean(y_forward)\n",
        "print(f\"{target = }\")"
      ]
    },
    {
      "cell_type": "code",
      "execution_count": 35,
      "id": "4d557768-8331-4538-8dde-a92a5a41b082",
      "metadata": {
        "id": "4d557768-8331-4538-8dde-a92a5a41b082"
      },
      "outputs": [],
      "source": [
        "# R^10 -> R^1\n",
        "def func(W, X = x_samples, lin = linear):\n",
        "    return np.mean(lin.forward(X))"
      ]
    },
    {
      "cell_type": "code",
      "execution_count": 36,
      "id": "5bd06d38-1986-47b8-8ec2-906ba24b5697",
      "metadata": {
        "colab": {
          "base_uri": "https://localhost:8080/"
        },
        "id": "5bd06d38-1986-47b8-8ec2-906ba24b5697",
        "outputId": "392ce6a2-6555-4766-c41c-c003aa28f786"
      },
      "outputs": [
        {
          "output_type": "execute_result",
          "data": {
            "text/plain": [
              "array([[0.05590806, 0.05590806, 0.05590806, 0.05590806, 0.05590833],\n",
              "       [0.03478384, 0.03478384, 0.03478384, 0.03478329, 0.03478329],\n",
              "       [0.18697155, 0.18697155, 0.18697155, 0.18697099, 0.18697072],\n",
              "       [0.18984703, 0.18984703, 0.18984703, 0.18984758, 0.18984786],\n",
              "       [0.18193891, 0.18193891, 0.18193891, 0.18193946, 0.18193891],\n",
              "       [0.17640223, 0.17640223, 0.17640223, 0.17640167, 0.17640167],\n",
              "       [0.0881617 , 0.0881617 , 0.0881617 , 0.08816115, 0.08816087],\n",
              "       [0.11907031, 0.11907031, 0.11907031, 0.11906975, 0.11906975],\n",
              "       [0.13784807, 0.13784807, 0.13784807, 0.13784834, 0.13784834],\n",
              "       [0.18988894, 0.18988894, 0.18988977, 0.18988894, 0.18988922]])"
            ]
          },
          "metadata": {},
          "execution_count": 36
        }
      ],
      "source": [
        "calculate_gradient(func, linear.W)"
      ]
    },
    {
      "cell_type": "code",
      "execution_count": 37,
      "id": "6c058136-aa21-4819-8b02-a7a821da4311",
      "metadata": {
        "colab": {
          "base_uri": "https://localhost:8080/"
        },
        "id": "6c058136-aa21-4819-8b02-a7a821da4311",
        "outputId": "d7f4bdb7-517d-4bc6-c050-8c73aa9285b2"
      },
      "outputs": [
        {
          "output_type": "stream",
          "name": "stdout",
          "text": [
            "[[0.05590819 0.05590819 0.05590819 0.05590819 0.05590819]\n",
            " [0.03478317 0.03478317 0.03478317 0.03478317 0.03478317]\n",
            " [0.18697079 0.18697079 0.18697079 0.18697079 0.18697079]\n",
            " [0.18984773 0.18984773 0.18984773 0.18984773 0.18984773]\n",
            " [0.18193916 0.18193916 0.18193916 0.18193916 0.18193916]\n",
            " [0.17640178 0.17640178 0.17640178 0.17640178 0.17640178]\n",
            " [0.08816107 0.08816107 0.08816107 0.08816107 0.08816107]\n",
            " [0.11906984 0.11906984 0.11906984 0.11906984 0.11906984]\n",
            " [0.13784834 0.13784834 0.13784834 0.13784834 0.13784834]\n",
            " [0.1898892  0.1898892  0.1898892  0.1898892  0.1898892 ]]\n"
          ]
        }
      ],
      "source": [
        "# dL/dy = d(1/10 * (y1 + y2 + y3 + ...)) / dy = (1/10, 1/10, 1/10, ... )\n",
        "dLdy = np.ones((1, 5)) / 5\n",
        "linear.backward(dLdy)\n",
        "print(linear.dLdw)"
      ]
    },
    {
      "cell_type": "code",
      "execution_count": 38,
      "id": "736bebc7-05c1-494a-92f8-e00c6df1a498",
      "metadata": {
        "id": "736bebc7-05c1-494a-92f8-e00c6df1a498"
      },
      "outputs": [],
      "source": [
        "EPS_ = 1e-5"
      ]
    },
    {
      "cell_type": "code",
      "execution_count": 39,
      "id": "578693b5-034c-4938-b15d-3462bab63e20",
      "metadata": {
        "colab": {
          "base_uri": "https://localhost:8080/"
        },
        "id": "578693b5-034c-4938-b15d-3462bab63e20",
        "outputId": "25f9d81e-bf95-4da3-eb00-3082bfdc1f5f"
      },
      "outputs": [
        {
          "output_type": "execute_result",
          "data": {
            "text/plain": [
              "array([[ True,  True,  True,  True,  True],\n",
              "       [ True,  True,  True,  True,  True],\n",
              "       [ True,  True,  True,  True,  True],\n",
              "       [ True,  True,  True,  True,  True],\n",
              "       [ True,  True,  True,  True,  True],\n",
              "       [ True,  True,  True,  True,  True],\n",
              "       [ True,  True,  True,  True,  True],\n",
              "       [ True,  True,  True,  True,  True],\n",
              "       [ True,  True,  True,  True,  True],\n",
              "       [ True,  True,  True,  True,  True]])"
            ]
          },
          "metadata": {},
          "execution_count": 39
        }
      ],
      "source": [
        " calculate_gradient(func, linear.W) - linear.dLdw < EPS_"
      ]
    },
    {
      "cell_type": "code",
      "execution_count": 40,
      "id": "064a790f-dc45-43c1-b828-9b58997f8119",
      "metadata": {
        "colab": {
          "base_uri": "https://localhost:8080/"
        },
        "id": "064a790f-dc45-43c1-b828-9b58997f8119",
        "outputId": "1ae9eec4-e97a-4908-9a93-03c66842a721"
      },
      "outputs": [
        {
          "output_type": "execute_result",
          "data": {
            "text/plain": [
              "array([[0.20000002, 0.20000002, 0.20000002, 0.20000002, 0.20000002]])"
            ]
          },
          "metadata": {},
          "execution_count": 40
        }
      ],
      "source": [
        "calculate_gradient(func, linear.b)"
      ]
    },
    {
      "cell_type": "code",
      "execution_count": 41,
      "id": "1b71d44b-18d1-4796-8901-e61f5cdde01c",
      "metadata": {
        "colab": {
          "base_uri": "https://localhost:8080/"
        },
        "id": "1b71d44b-18d1-4796-8901-e61f5cdde01c",
        "outputId": "f8811f6a-c3e0-4ec5-f82e-90c714db602e"
      },
      "outputs": [
        {
          "output_type": "execute_result",
          "data": {
            "text/plain": [
              "array([[0.2, 0.2, 0.2, 0.2, 0.2]])"
            ]
          },
          "metadata": {},
          "execution_count": 41
        }
      ],
      "source": [
        "linear.dLdb"
      ]
    },
    {
      "cell_type": "code",
      "execution_count": 42,
      "id": "f23e5acc-008a-4d2a-b226-835cd708444d",
      "metadata": {
        "colab": {
          "base_uri": "https://localhost:8080/"
        },
        "id": "f23e5acc-008a-4d2a-b226-835cd708444d",
        "outputId": "76796ebe-9467-4bbd-8c12-967ea838ce1d"
      },
      "outputs": [
        {
          "output_type": "execute_result",
          "data": {
            "text/plain": [
              "array([[ True,  True,  True,  True,  True]])"
            ]
          },
          "metadata": {},
          "execution_count": 42
        }
      ],
      "source": [
        "calculate_gradient(func, linear.b).reshape(1, -1) - linear.dLdb < EPS_"
      ]
    },
    {
      "cell_type": "markdown",
      "id": "a388b0d0-41f9-4fd4-a971-9ba07e71b341",
      "metadata": {
        "id": "a388b0d0-41f9-4fd4-a971-9ba07e71b341"
      },
      "source": [
        "### Численное решение и решение через градиент совпадает =)"
      ]
    },
    {
      "cell_type": "markdown",
      "id": "e5ebf89e-08c5-41a8-9ec9-c29f70611989",
      "metadata": {
        "id": "e5ebf89e-08c5-41a8-9ec9-c29f70611989"
      },
      "source": [
        "---------------------------"
      ]
    },
    {
      "cell_type": "code",
      "execution_count": 43,
      "id": "73bc1212-16d5-4f67-8733-eaaea650b2b3",
      "metadata": {
        "id": "73bc1212-16d5-4f67-8733-eaaea650b2b3"
      },
      "outputs": [],
      "source": [
        "class ReLU:\n",
        "    def __init__(self):\n",
        "        pass\n",
        "    def forward(self, X):\n",
        "        self.X = X\n",
        "        self.Y = np.maximum(0, X)\n",
        "        return self.Y\n",
        "    def backward(self, dLdy):\n",
        "        dLdx = dLdy * (self.X > 0)\n",
        "        return dLdx\n",
        "    def step(self, lr):\n",
        "        pass"
      ]
    },
    {
      "cell_type": "code",
      "execution_count": 44,
      "id": "579c5df5-2d3d-4b72-a12b-ea6402e8af0c",
      "metadata": {
        "id": "579c5df5-2d3d-4b72-a12b-ea6402e8af0c"
      },
      "outputs": [],
      "source": [
        "relu = ReLU()"
      ]
    },
    {
      "cell_type": "code",
      "execution_count": 45,
      "id": "d3d211a6-c9bd-4825-a254-5fefe6a98a91",
      "metadata": {
        "colab": {
          "base_uri": "https://localhost:8080/"
        },
        "id": "d3d211a6-c9bd-4825-a254-5fefe6a98a91",
        "outputId": "0e553e34-8a90-40e2-f232-4d58368f9f08"
      },
      "outputs": [
        {
          "output_type": "stream",
          "name": "stdout",
          "text": [
            "x_samples=array([[ 0],\n",
            "       [ 0],\n",
            "       [ 4],\n",
            "       [ 8],\n",
            "       [ 1],\n",
            "       [ 7],\n",
            "       [ 7],\n",
            "       [-3],\n",
            "       [ 0],\n",
            "       [ 4]])\n"
          ]
        }
      ],
      "source": [
        "x_samples = np.random.randint(-5, 10, 10).reshape(10,1)\n",
        "print(f'{x_samples=}')"
      ]
    },
    {
      "cell_type": "code",
      "execution_count": 46,
      "id": "3a1d9c2b-4527-4c57-ad13-3b5d8d4d2b78",
      "metadata": {
        "colab": {
          "base_uri": "https://localhost:8080/"
        },
        "id": "3a1d9c2b-4527-4c57-ad13-3b5d8d4d2b78",
        "outputId": "aeaec326-7aa4-4b6f-c267-508832f93f9c"
      },
      "outputs": [
        {
          "output_type": "execute_result",
          "data": {
            "text/plain": [
              "31"
            ]
          },
          "metadata": {},
          "execution_count": 46
        }
      ],
      "source": [
        "relu.forward(x_samples).sum()"
      ]
    },
    {
      "cell_type": "code",
      "execution_count": 47,
      "id": "df0dee6e-b20d-4e16-ab04-2c893dea7087",
      "metadata": {
        "id": "df0dee6e-b20d-4e16-ab04-2c893dea7087"
      },
      "outputs": [],
      "source": [
        "def f(X, relu=relu):\n",
        "    return relu.forward(X).sum()"
      ]
    },
    {
      "cell_type": "code",
      "execution_count": 48,
      "id": "0906e27f-9834-4e3d-b792-0b30e0da3927",
      "metadata": {
        "colab": {
          "base_uri": "https://localhost:8080/"
        },
        "id": "0906e27f-9834-4e3d-b792-0b30e0da3927",
        "outputId": "60d6d0bf-7b11-40b1-c64f-293a37c10e43"
      },
      "outputs": [
        {
          "output_type": "execute_result",
          "data": {
            "text/plain": [
              "array([[ True],\n",
              "       [ True],\n",
              "       [ True],\n",
              "       [ True],\n",
              "       [ True],\n",
              "       [ True],\n",
              "       [ True],\n",
              "       [ True],\n",
              "       [ True],\n",
              "       [ True]])"
            ]
          },
          "metadata": {},
          "execution_count": 48
        }
      ],
      "source": [
        "relu.backward(np.ones((10,1))) - calculate_gradient(f, x_samples) < EPS_"
      ]
    },
    {
      "cell_type": "code",
      "execution_count": 49,
      "id": "55a699ca-99cc-454a-84bc-69679f992bdb",
      "metadata": {
        "id": "55a699ca-99cc-454a-84bc-69679f992bdb"
      },
      "outputs": [],
      "source": [
        "class MSE:\n",
        "    def __init__(self):\n",
        "        pass\n",
        "    def forward(self, X, y):\n",
        "        self.n = len(X)\n",
        "        self.X = X\n",
        "        self.y = y\n",
        "        mse = ((self.X - self.y)**2).mean()\n",
        "        return mse\n",
        "    def backward(self):\n",
        "        dLdx = (2*(self.X - self.y)) / self.n\n",
        "        return dLdx\n",
        "    def step(self):\n",
        "        pass"
      ]
    },
    {
      "cell_type": "code",
      "execution_count": 65,
      "id": "51b7ef93-763a-4617-98e4-c2c98e2a12a5",
      "metadata": {
        "id": "51b7ef93-763a-4617-98e4-c2c98e2a12a5"
      },
      "outputs": [],
      "source": [
        "# structure:\n",
        "# input -> Dense(100) -> ReLU -> Dense(1) -> MSE\n",
        "class MLPRegressor:\n",
        "    def __init__(\n",
        "        self,\n",
        "        hidden_layer_size = (100,),\n",
        "        learning_rate = 1e-4,\n",
        "        max_iter = 15,\n",
        "        batch_size = 10,\n",
        "        plot = False\n",
        "    ):\n",
        "        self.hls = hidden_layer_size\n",
        "        self.lr = learning_rate\n",
        "        self.iter = max_iter\n",
        "        self.batch_size = batch_size\n",
        "        self.layers = []\n",
        "        self.risk_function = MSE()\n",
        "        self.plot = plot\n",
        "\n",
        "    def __init_hidden_layers(self, input_shape):\n",
        "        for i in range(len(self.hls)):\n",
        "          if i == 0:\n",
        "            self.layers.append(LinearLayer(input_shape, self.hls[i]))\n",
        "            self.layers.append(ReLU())\n",
        "          else:\n",
        "            self.layers.append(LinearLayer(self.hls[i-1], self.hls[i]))\n",
        "            self.layers.append(ReLU())\n",
        "\n",
        "        self.layers.append(LinearLayer(self.hls[-1], 1))\n",
        "\n",
        "    def __str__(self):\n",
        "      if not self.layers:\n",
        "        return f\"Model is empty now, use fit\"\n",
        "      res = \"\"\n",
        "      for layer in self.layers:\n",
        "        if hasattr(layer, 'input_size') and hasattr(layer, 'output_size'):\n",
        "          res += str(layer.__class__.__name__) + f\" {layer.input_size}, {layer.output_size}\" + '\\n'\n",
        "        else:\n",
        "          res += str(layer.__class__.__name__) + '\\n'\n",
        "      return res.strip()\n",
        "\n",
        "    def fit(self, X, y):\n",
        "\n",
        "        size, dim = X.shape\n",
        "        self.__init_hidden_layers(input_shape=dim)\n",
        "\n",
        "        if self.plot:\n",
        "            fig = plt.figure(figsize=(15, 10))\n",
        "            ax = fig.add_subplot(222)\n",
        "            fig.suptitle('Gradient descent')\n",
        "\n",
        "        errors = []\n",
        "\n",
        "        for _ in range(self.iter):\n",
        "\n",
        "            batch = np.random.choice(size, self.batch_size, replace=False)\n",
        "            X_batch = X[batch]\n",
        "            y_batch = y[batch]\n",
        "\n",
        "            pred = self.__forward(X_batch)\n",
        "\n",
        "            curr_loss = self.risk_function.forward(pred, y_batch)\n",
        "            errors.append(curr_loss)\n",
        "\n",
        "            gradient_of_rf = self.risk_function.backward()\n",
        "            self.__backward(gradient_of_rf)\n",
        "            # update weights\n",
        "            self.__step(self.lr)\n",
        "\n",
        "        if self.plot:\n",
        "            ax.plot(range(_+1), errors, 'g-')\n",
        "            ax.set_title('MSE')\n",
        "            ax.set_xlabel('itarations')\n",
        "\n",
        "\n",
        "\n",
        "    def __forward(self, X):\n",
        "        for l in self.layers:\n",
        "            X = l.forward(X)\n",
        "        return X\n",
        "\n",
        "    def __backward(self, dLdy):\n",
        "        for l in self.layers[::-1]:\n",
        "            dLdy = l.backward(dLdy)\n",
        "\n",
        "    def __step(self, learning_rate):\n",
        "        for l in self.layers:\n",
        "            l.step(learning_rate)\n",
        "\n",
        "    def predict(self, X):\n",
        "        predictions = []\n",
        "        size, dim = X.shape\n",
        "\n",
        "        num_batches = size // self.batch_size\n",
        "\n",
        "        for i in range(num_batches):\n",
        "            batch_start = i * self.batch_size\n",
        "            batch_end = (i + 1) * self.batch_size\n",
        "            batch_X = X[batch_start:batch_end]\n",
        "\n",
        "            batch_predictions = self.__forward(batch_X)\n",
        "\n",
        "            predictions.append(batch_predictions)\n",
        "\n",
        "        if size % self.batch_size != 0:\n",
        "\n",
        "            batch_X = X[num_batches * self.batch_size:]\n",
        "\n",
        "            real_size = batch_X.shape[0]\n",
        "            diff = self.batch_size - batch_X.shape[0]\n",
        "            batch_X = np.concatenate((batch_X, np.zeros((diff, batch_X.shape[1]))), axis=0)\n",
        "\n",
        "            batch_predictions = self.__forward(batch_X)\n",
        "\n",
        "            predictions.append(batch_predictions[:real_size])\n",
        "\n",
        "\n",
        "        all_predictions = np.concatenate(predictions, axis=0)\n",
        "\n",
        "        return np.array(all_predictions)\n"
      ]
    },
    {
      "cell_type": "markdown",
      "id": "2afb2d95-c521-406d-b601-0baf84cb4a54",
      "metadata": {
        "id": "2afb2d95-c521-406d-b601-0baf84cb4a54"
      },
      "source": [
        "# Проверяем модель MLP на выборке Diamonds"
      ]
    },
    {
      "cell_type": "code",
      "execution_count": 66,
      "id": "2df8e839-fb8e-4cf7-84de-5637609bfbbb",
      "metadata": {
        "id": "2df8e839-fb8e-4cf7-84de-5637609bfbbb"
      },
      "outputs": [],
      "source": [
        "model = MLPRegressor(max_iter=2000, plot=True, batch_size=100, learning_rate=1e-5, hidden_layer_size=(64,))"
      ]
    },
    {
      "cell_type": "code",
      "source": [
        "print(model)"
      ],
      "metadata": {
        "colab": {
          "base_uri": "https://localhost:8080/"
        },
        "id": "OrCCrhRcbt8F",
        "outputId": "46cec077-7f22-4f97-c63f-3ec6bf2df2af"
      },
      "id": "OrCCrhRcbt8F",
      "execution_count": 67,
      "outputs": [
        {
          "output_type": "stream",
          "name": "stdout",
          "text": [
            "Model is empty now, use fit\n"
          ]
        }
      ]
    },
    {
      "cell_type": "code",
      "execution_count": 68,
      "id": "98a86c5b-77a4-4d58-a04b-dc4968ec28a9",
      "metadata": {
        "colab": {
          "base_uri": "https://localhost:8080/",
          "height": 530
        },
        "id": "98a86c5b-77a4-4d58-a04b-dc4968ec28a9",
        "outputId": "03416d30-f0c0-4da4-f316-513200fd69f3"
      },
      "outputs": [
        {
          "output_type": "display_data",
          "data": {
            "text/plain": [
              "<Figure size 1500x1000 with 1 Axes>"
            ],
            "image/png": "[encoded data removed]"
          },
          "metadata": {}
        }
      ],
      "source": [
        "model.fit(X_train, y_train)"
      ]
    },
    {
      "cell_type": "code",
      "source": [
        "print(model)"
      ],
      "metadata": {
        "colab": {
          "base_uri": "https://localhost:8080/"
        },
        "id": "8ITCnYIbb1CP",
        "outputId": "d0585e39-8a55-4d29-9735-9f0f4eccb02d"
      },
      "id": "8ITCnYIbb1CP",
      "execution_count": 69,
      "outputs": [
        {
          "output_type": "stream",
          "name": "stdout",
          "text": [
            "LinearLayer 9, 64\n",
            "ReLU\n",
            "LinearLayer 64, 1\n"
          ]
        }
      ]
    },
    {
      "cell_type": "code",
      "execution_count": 70,
      "id": "d378d366-c23e-4744-8ff7-78531bfe47f1",
      "metadata": {
        "id": "d378d366-c23e-4744-8ff7-78531bfe47f1"
      },
      "outputs": [],
      "source": [
        "y_pred_nn = model.predict(X_test)"
      ]
    },
    {
      "cell_type": "code",
      "execution_count": 71,
      "id": "5fcb5717-cc62-483d-9ecc-957a611b26be",
      "metadata": {
        "id": "5fcb5717-cc62-483d-9ecc-957a611b26be"
      },
      "outputs": [],
      "source": [
        "from sklearn.metrics import mean_squared_error"
      ]
    },
    {
      "cell_type": "code",
      "execution_count": 72,
      "id": "681a5b30-dd41-417b-983d-835268e33e43",
      "metadata": {
        "colab": {
          "base_uri": "https://localhost:8080/"
        },
        "id": "681a5b30-dd41-417b-983d-835268e33e43",
        "outputId": "03870476-3889-4fa8-d691-0b7cab3ae1e4"
      },
      "outputs": [
        {
          "output_type": "execute_result",
          "data": {
            "text/plain": [
              "975153.7075441248"
            ]
          },
          "metadata": {},
          "execution_count": 72
        }
      ],
      "source": [
        "mean_squared_error(y_pred_nn, y_test)"
      ]
    },
    {
      "cell_type": "code",
      "execution_count": 73,
      "id": "0cf78b07-2c14-4166-9922-b6e454f5d4ad",
      "metadata": {
        "colab": {
          "base_uri": "https://localhost:8080/"
        },
        "id": "0cf78b07-2c14-4166-9922-b6e454f5d4ad",
        "outputId": "407e94ed-ee2b-4639-b0d0-522fd96b1fd8"
      },
      "outputs": [
        {
          "output_type": "execute_result",
          "data": {
            "text/plain": [
              "0.9337379602119612"
            ]
          },
          "metadata": {},
          "execution_count": 73
        }
      ],
      "source": [
        "score_nn = r2_score(y_pred_nn, y_test)\n",
        "score_nn"
      ]
    },
    {
      "cell_type": "code",
      "execution_count": 74,
      "id": "13be40dc-984b-4fba-8668-19bde9d5b783",
      "metadata": {
        "colab": {
          "base_uri": "https://localhost:8080/",
          "height": 452
        },
        "id": "13be40dc-984b-4fba-8668-19bde9d5b783",
        "outputId": "d57cab69-99f3-4ebd-dd4d-9edadec6db33"
      },
      "outputs": [
        {
          "output_type": "display_data",
          "data": {
            "text/plain": [
              "<Figure size 640x480 with 1 Axes>"
            ],
            "image/png": "[encoded data removed]"
          },
          "metadata": {}
        }
      ],
      "source": [
        "plt.title(f'R2: {str(score_nn)[:5]}')\n",
        "plt.hist(y_pred_nn.reshape(1, -1)[0], bins=100, label='PREDICTION')\n",
        "plt.hist(y_test.reshape(1, -1)[0], bins=100, label='GT')\n",
        "plt.legend()\n",
        "plt.grid();"
      ]
    },
    {
      "cell_type": "code",
      "source": [
        "model = MLPRegressor(max_iter=1000, plot=True, batch_size=32, learning_rate=1e-6, hidden_layer_size=(128, 128))"
      ],
      "metadata": {
        "id": "L5qPNpkFdSra"
      },
      "id": "L5qPNpkFdSra",
      "execution_count": 158,
      "outputs": []
    },
    {
      "cell_type": "code",
      "source": [
        "model.fit(X_train, y_train)"
      ],
      "metadata": {
        "colab": {
          "base_uri": "https://localhost:8080/",
          "height": 530
        },
        "id": "TRbCz36OdZrX",
        "outputId": "f089825c-e944-46a6-d102-63bd566e7634"
      },
      "id": "TRbCz36OdZrX",
      "execution_count": 159,
      "outputs": [
        {
          "output_type": "display_data",
          "data": {
            "text/plain": [
              "<Figure size 1500x1000 with 1 Axes>"
            ],
            "image/png": "[encoded data removed]"
          },
          "metadata": {}
        }
      ]
    },
    {
      "cell_type": "code",
      "source": [
        "print(model)"
      ],
      "metadata": {
        "colab": {
          "base_uri": "https://localhost:8080/"
        },
        "id": "x9Nwj5bYdhem",
        "outputId": "af49d9e5-4b78-40d2-d39a-c28cd5ad7b27"
      },
      "id": "x9Nwj5bYdhem",
      "execution_count": 160,
      "outputs": [
        {
          "output_type": "stream",
          "name": "stdout",
          "text": [
            "LinearLayer 9, 128\n",
            "ReLU\n",
            "LinearLayer 128, 128\n",
            "ReLU\n",
            "LinearLayer 128, 1\n"
          ]
        }
      ]
    },
    {
      "cell_type": "code",
      "source": [
        "y_pred_nn = model.predict(X_test)"
      ],
      "metadata": {
        "id": "xoaUcshgdgxz"
      },
      "id": "xoaUcshgdgxz",
      "execution_count": 161,
      "outputs": []
    },
    {
      "cell_type": "code",
      "source": [
        "y_pred_nn = model.predict(X_test)"
      ],
      "metadata": {
        "id": "pk0sDDondn2n"
      },
      "id": "pk0sDDondn2n",
      "execution_count": 162,
      "outputs": []
    },
    {
      "cell_type": "code",
      "source": [
        "score_nn = r2_score(y_pred_nn, y_test)\n",
        "score_nn"
      ],
      "metadata": {
        "colab": {
          "base_uri": "https://localhost:8080/"
        },
        "id": "HRZt-F71dreZ",
        "outputId": "8a132a34-348a-4b6d-a333-cd74bc68c757"
      },
      "id": "HRZt-F71dreZ",
      "execution_count": 163,
      "outputs": [
        {
          "output_type": "execute_result",
          "data": {
            "text/plain": [
              "0.9267818586305309"
            ]
          },
          "metadata": {},
          "execution_count": 163
        }
      ]
    },
    {
      "cell_type": "code",
      "source": [
        "plt.title(f'R2: {str(score_nn)[:5]}')\n",
        "plt.hist(y_pred_nn.reshape(1, -1)[0], bins=100, label='PREDICTION')\n",
        "plt.hist(y_test.reshape(1, -1)[0], bins=100, label='GT')\n",
        "plt.legend()\n",
        "plt.grid();"
      ],
      "metadata": {
        "colab": {
          "base_uri": "https://localhost:8080/",
          "height": 452
        },
        "id": "bbC2BCgudtje",
        "outputId": "26a8e57a-43d8-4ede-f97d-0312175d9f3f"
      },
      "id": "bbC2BCgudtje",
      "execution_count": 164,
      "outputs": [
        {
          "output_type": "display_data",
          "data": {
            "text/plain": [
              "<Figure size 640x480 with 1 Axes>"
            ],
            "image/png": "[encoded data removed]"
          },
          "metadata": {}
        }
      ]
    }
  ],
  "metadata": {
    "kernelspec": {
      "display_name": "Python 3",
      "name": "python3"
    },
    "language_info": {
      "codemirror_mode": {
        "name": "ipython",
        "version": 3
      },
      "file_extension": ".py",
      "mimetype": "text/x-python",
      "name": "python",
      "nbconvert_exporter": "python",
      "pygments_lexer": "ipython3",
      "version": "3.9.17"
    },
    "colab": {
      "provenance": [],
      "gpuType": "T4"
    },
    "accelerator": "GPU"
  },
  "nbformat": 4,
  "nbformat_minor": 5
}