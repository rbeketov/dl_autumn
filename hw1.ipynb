{
 "cells": [
  {
   "cell_type": "code",
   "execution_count": 2,
   "id": "8cc148dc-d83d-4c32-bbb0-3ffd82ba4e98",
   "metadata": {},
   "outputs": [],
   "source": [
    "import numpy as np\n",
    "import pandas as pd\n",
    "import matplotlib.pyplot as plt\n",
    "\n",
    "from sklearn.linear_model import LinearRegression\n",
    "from sklearn.model_selection import train_test_split\n",
    "from sklearn.metrics import r2_score\n",
    "from sklearn.preprocessing import MinMaxScaler\n",
    "\n",
    "%matplotlib inline"
   ]
  },
  {
   "cell_type": "markdown",
   "id": "e3a06e1e-3bc0-4667-84f3-7e86698c3737",
   "metadata": {},
   "source": [
    "# Загружаем выборку Diamonds"
   ]
  },
  {
   "cell_type": "markdown",
   "id": "c731a143-3dc9-43e7-96f5-b1eff9093345",
   "metadata": {},
   "source": [
    "1. PRICE: price in US dollars (326-18,823)\n",
    "2. CARAT: weight of the diamond (0.2--5.01)\n",
    "3. CUT: quality of the cut (Fair, Good, Very Good, Premium, Ideal)\n",
    "4. COLOR: diamond colour, from J (worst) to D (best)\n",
    "5. CLARITY: a measurement of how clear the diamond is (I1 (worst), SI2, SI1, VS2, VS1, VVS2, VVS1, IF (best))\n",
    "6. X: length in mm (0--10.74)\n",
    "7. Y: width in mm (0--58.9)\n",
    "8. Z: depth in mm (0--31.8)\n",
    "9. DEPTH: total depth percentage = z / mean(x, y) = 2 * z / (x + y) (43--79)\n",
    "10. TABLE: width of top of diamond relative to widest point (43--95)"
   ]
  },
  {
   "cell_type": "code",
   "execution_count": 3,
   "id": "0f24cf86-653a-422b-9df1-8029fdccf153",
   "metadata": {},
   "outputs": [],
   "source": [
    "diamonds_df = pd.read_csv('diamonds.csv')"
   ]
  },
  {
   "cell_type": "code",
   "execution_count": 4,
   "id": "70d9ccfe-e1cf-4c90-a5ab-40ae0852f1ce",
   "metadata": {},
   "outputs": [
    {
     "data": {
      "text/html": [
       "<div>\n",
       "<style scoped>\n",
       "    .dataframe tbody tr th:only-of-type {\n",
       "        vertical-align: middle;\n",
       "    }\n",
       "\n",
       "    .dataframe tbody tr th {\n",
       "        vertical-align: top;\n",
       "    }\n",
       "\n",
       "    .dataframe thead th {\n",
       "        text-align: right;\n",
       "    }\n",
       "</style>\n",
       "<table border=\"1\" class=\"dataframe\">\n",
       "  <thead>\n",
       "    <tr style=\"text-align: right;\">\n",
       "      <th></th>\n",
       "      <th>Unnamed: 0</th>\n",
       "      <th>carat</th>\n",
       "      <th>cut</th>\n",
       "      <th>color</th>\n",
       "      <th>clarity</th>\n",
       "      <th>depth</th>\n",
       "      <th>table</th>\n",
       "      <th>price</th>\n",
       "      <th>x</th>\n",
       "      <th>y</th>\n",
       "      <th>z</th>\n",
       "    </tr>\n",
       "  </thead>\n",
       "  <tbody>\n",
       "    <tr>\n",
       "      <th>0</th>\n",
       "      <td>1</td>\n",
       "      <td>0.23</td>\n",
       "      <td>Ideal</td>\n",
       "      <td>E</td>\n",
       "      <td>SI2</td>\n",
       "      <td>61.5</td>\n",
       "      <td>55.0</td>\n",
       "      <td>326</td>\n",
       "      <td>3.95</td>\n",
       "      <td>3.98</td>\n",
       "      <td>2.43</td>\n",
       "    </tr>\n",
       "    <tr>\n",
       "      <th>1</th>\n",
       "      <td>2</td>\n",
       "      <td>0.21</td>\n",
       "      <td>Premium</td>\n",
       "      <td>E</td>\n",
       "      <td>SI1</td>\n",
       "      <td>59.8</td>\n",
       "      <td>61.0</td>\n",
       "      <td>326</td>\n",
       "      <td>3.89</td>\n",
       "      <td>3.84</td>\n",
       "      <td>2.31</td>\n",
       "    </tr>\n",
       "    <tr>\n",
       "      <th>2</th>\n",
       "      <td>3</td>\n",
       "      <td>0.23</td>\n",
       "      <td>Good</td>\n",
       "      <td>E</td>\n",
       "      <td>VS1</td>\n",
       "      <td>56.9</td>\n",
       "      <td>65.0</td>\n",
       "      <td>327</td>\n",
       "      <td>4.05</td>\n",
       "      <td>4.07</td>\n",
       "      <td>2.31</td>\n",
       "    </tr>\n",
       "    <tr>\n",
       "      <th>3</th>\n",
       "      <td>4</td>\n",
       "      <td>0.29</td>\n",
       "      <td>Premium</td>\n",
       "      <td>I</td>\n",
       "      <td>VS2</td>\n",
       "      <td>62.4</td>\n",
       "      <td>58.0</td>\n",
       "      <td>334</td>\n",
       "      <td>4.20</td>\n",
       "      <td>4.23</td>\n",
       "      <td>2.63</td>\n",
       "    </tr>\n",
       "    <tr>\n",
       "      <th>4</th>\n",
       "      <td>5</td>\n",
       "      <td>0.31</td>\n",
       "      <td>Good</td>\n",
       "      <td>J</td>\n",
       "      <td>SI2</td>\n",
       "      <td>63.3</td>\n",
       "      <td>58.0</td>\n",
       "      <td>335</td>\n",
       "      <td>4.34</td>\n",
       "      <td>4.35</td>\n",
       "      <td>2.75</td>\n",
       "    </tr>\n",
       "  </tbody>\n",
       "</table>\n",
       "</div>"
      ],
      "text/plain": [
       "   Unnamed: 0  carat      cut color clarity  depth  table  price     x     y  \\\n",
       "0           1   0.23    Ideal     E     SI2   61.5   55.0    326  3.95  3.98   \n",
       "1           2   0.21  Premium     E     SI1   59.8   61.0    326  3.89  3.84   \n",
       "2           3   0.23     Good     E     VS1   56.9   65.0    327  4.05  4.07   \n",
       "3           4   0.29  Premium     I     VS2   62.4   58.0    334  4.20  4.23   \n",
       "4           5   0.31     Good     J     SI2   63.3   58.0    335  4.34  4.35   \n",
       "\n",
       "      z  \n",
       "0  2.43  \n",
       "1  2.31  \n",
       "2  2.31  \n",
       "3  2.63  \n",
       "4  2.75  "
      ]
     },
     "execution_count": 4,
     "metadata": {},
     "output_type": "execute_result"
    }
   ],
   "source": [
    "diamonds_df.head()"
   ]
  },
  {
   "cell_type": "code",
   "execution_count": 5,
   "id": "2c733aed-97cb-4450-b833-d0fadd637037",
   "metadata": {},
   "outputs": [
    {
     "data": {
      "text/plain": [
       "(53940, 11)"
      ]
     },
     "execution_count": 5,
     "metadata": {},
     "output_type": "execute_result"
    }
   ],
   "source": [
    "diamonds_df.shape"
   ]
  },
  {
   "cell_type": "code",
   "execution_count": 6,
   "id": "fad21c95-f542-44ec-8f06-8f57fd42ddef",
   "metadata": {},
   "outputs": [
    {
     "data": {
      "image/png": "[encoded data removed]",
      "text/plain": [
       "<Figure size 640x480 with 1 Axes>"
      ]
     },
     "metadata": {},
     "output_type": "display_data"
    }
   ],
   "source": [
    "plt.hist(diamonds_df['price'], bins=100)\n",
    "plt.grid();"
   ]
  },
  {
   "cell_type": "markdown",
   "id": "17ac44bb-86c7-424a-8b9b-0a21bf490683",
   "metadata": {},
   "source": [
    "# Подготовка данных"
   ]
  },
  {
   "cell_type": "code",
   "execution_count": 7,
   "id": "e19945ea-cecf-481e-a28b-3f9c11001918",
   "metadata": {},
   "outputs": [],
   "source": [
    "features = ['carat', 'cut', 'color', 'clarity', 'depth', 'table', 'x', 'y', 'z']\n",
    "target = ['price']"
   ]
  },
  {
   "cell_type": "code",
   "execution_count": 8,
   "id": "fbc43eb0-e77f-4765-8b0e-b9052c093855",
   "metadata": {},
   "outputs": [],
   "source": [
    "cut_transform = {'Fair': 0, 'Good': 1, 'Very Good': 2, 'Premium': 3, 'Ideal': 4}\n",
    "clarity_transform = {'I1': 0, 'SI2': 1, 'SI1': 2, 'VS2': 3, 'VS1': 4, 'VVS2': 5, 'VVS1': 6, 'IF': 7}\n",
    "color_transorm = {'D': 0, 'E': 1, 'F': 2, 'G': 3, 'H': 4, 'I': 5, 'J': 6}"
   ]
  },
  {
   "cell_type": "code",
   "execution_count": 9,
   "id": "6f82b34f-9ffc-478f-a103-b2cbbca49a94",
   "metadata": {},
   "outputs": [],
   "source": [
    "diamonds_df['cut'] = diamonds_df['cut'].apply(lambda x: cut_transform.get(x))\n",
    "diamonds_df['color'] = diamonds_df['color'].apply(lambda x: color_transorm.get(x))\n",
    "diamonds_df['clarity'] = diamonds_df['clarity'].apply(lambda x: clarity_transform.get(x))"
   ]
  },
  {
   "cell_type": "code",
   "execution_count": 10,
   "id": "8e5fa82b-92ed-4e79-adf2-422204b45e82",
   "metadata": {},
   "outputs": [],
   "source": [
    "X = diamonds_df[features].copy().values\n",
    "y = diamonds_df[target].values"
   ]
  },
  {
   "cell_type": "code",
   "execution_count": 11,
   "id": "baafcd96-b32e-469e-b354-fa0aba09db8f",
   "metadata": {},
   "outputs": [],
   "source": [
    "scaler = MinMaxScaler()\n",
    "X = scaler.fit_transform(X)"
   ]
  },
  {
   "cell_type": "code",
   "execution_count": 12,
   "id": "64c11d68-dc5c-4753-9cc4-3cc4e136f3cb",
   "metadata": {},
   "outputs": [],
   "source": [
    "X_train, X_test, y_train, y_test = train_test_split(X, y, random_state=47, test_size=0.3)"
   ]
  },
  {
   "cell_type": "markdown",
   "id": "3b743ed1-d0cf-485d-b8f2-8c71fc174e8b",
   "metadata": {},
   "source": [
    "# Обучаем модель линейной регрессии"
   ]
  },
  {
   "cell_type": "code",
   "execution_count": 13,
   "id": "0068e36f-040e-4aa3-bb06-88aa95051478",
   "metadata": {},
   "outputs": [],
   "source": [
    "reg = LinearRegression().fit(X_train, y_train)"
   ]
  },
  {
   "cell_type": "code",
   "execution_count": 14,
   "id": "f968e336-4049-41b2-81d1-4c24f0969bbb",
   "metadata": {},
   "outputs": [],
   "source": [
    "y_pred = reg.predict(X_test)"
   ]
  },
  {
   "cell_type": "code",
   "execution_count": 15,
   "id": "0952990a-b3d6-4da4-9cc6-1ab3a7a25ac7",
   "metadata": {},
   "outputs": [],
   "source": [
    "score = r2_score(y_pred, y_test)"
   ]
  },
  {
   "cell_type": "code",
   "execution_count": 16,
   "id": "f89c3bbd-0a3a-48ac-b1ab-b75dc0c5bcce",
   "metadata": {},
   "outputs": [
    {
     "data": {
      "image/png": "[encoded data removed]",
      "text/plain": [
       "<Figure size 640x480 with 1 Axes>"
      ]
     },
     "metadata": {},
     "output_type": "display_data"
    }
   ],
   "source": [
    "plt.title(f'R2: {str(score)[:5]}')\n",
    "plt.hist(y_pred.reshape(1, -1)[0], bins=100, label='PREDICTION')\n",
    "plt.hist(y_test.reshape(1, -1)[0], bins=100, label='GT')\n",
    "plt.legend()\n",
    "plt.grid();"
   ]
  },
  {
   "cell_type": "code",
   "execution_count": 17,
   "id": "76149fd5-9722-4076-a44f-b01deacce0c3",
   "metadata": {},
   "outputs": [
    {
     "data": {
      "text/plain": [
       "((37758, 9), (37758, 100))"
      ]
     },
     "execution_count": 17,
     "metadata": {},
     "output_type": "execute_result"
    }
   ],
   "source": [
    "X_train.shape , (37758, 100)"
   ]
  },
  {
   "cell_type": "markdown",
   "id": "7886f8b7-ba2e-4fde-8b91-f815ea961fe5",
   "metadata": {},
   "source": [
    "# Создаём модель MLP для задачи регрессии"
   ]
  },
  {
   "cell_type": "code",
   "execution_count": 18,
   "id": "fbe9a141-daa8-47ab-bb48-b27bb6190020",
   "metadata": {},
   "outputs": [],
   "source": [
    "# y(batch, output) =  x(batch, input) * w(input, output) + bias(batch, output)\n",
    "\n",
    "class LinearLayer:\n",
    "    def __init__(\n",
    "        self,\n",
    "        input_size,\n",
    "        output_size,\n",
    "    ):\n",
    "        self.input_size = input_size\n",
    "        self.output_size = output_size\n",
    "        # initialization by Kaiming He for ReLU\n",
    "        scale = np.sqrt(2 / self.input_size)\n",
    "        self.W = np.random.normal(0, scale, (self.input_size, self.output_size))\n",
    "\n",
    "        self.b = None\n",
    "\n",
    "    def forward(self, X):\n",
    "        self.X = np.array(X)\n",
    "        \n",
    "        if self.b is None:\n",
    "            self.b = np.zeros((X.shape[0], self.output_size))\n",
    "\n",
    "        self.Y = self.X @ self.W + self.b\n",
    "        return self.Y\n",
    "\n",
    "    def backward(self, dLdy):\n",
    "        # just in case\n",
    "        dLdy = np.array(dLdy)\n",
    "        # dL/db = dL/dy * dy/db = dL/dy\n",
    "        self.dLdb = dLdy\n",
    "        # (inp, out) = (inp ,batch) * (batch, outp)\n",
    "        self.dLdw = self.X.T @ dLdy\n",
    "        dLdx = dLdy @ self.W.T \n",
    "        return dLdx\n",
    "\n",
    "    def step(self, lr):\n",
    "        self.W -= lr * self.dLdw\n",
    "        self.b -= lr * self.dLdb\n",
    "\n",
    "\n",
    "        "
   ]
  },
  {
   "attachments": {
    "56485b99-d0b6-4b68-a49c-dd92cf60a301.png": {
     "image/png": "[encoded data removed]"
    }
   },
   "cell_type": "markdown",
   "id": "b07c6f02-e0b7-48ad-b737-afa7e3482a9b",
   "metadata": {},
   "source": [
    "![image.png](attachment:56485b99-d0b6-4b68-a49c-dd92cf60a301.png)"
   ]
  },
  {
   "cell_type": "code",
   "execution_count": 19,
   "id": "e6cf13fb-0341-4829-bf16-f1079e22d40e",
   "metadata": {},
   "outputs": [],
   "source": [
    "def calculate_gradient(function, X, eps = 1e-10):\n",
    "    if len(X.shape) < 2:\n",
    "        X = np.expand_dims(X, axis = -1)\n",
    "        \n",
    "    numerical_gradient_X = np.zeros(X.shape)\n",
    "   \n",
    "    for i in range(X.shape[0]):\n",
    "        for j in range(X.shape[1]):\n",
    "            X[i,j] += eps\n",
    "            f_plus = function(X)\n",
    "            X[i,j] -= eps\n",
    "\n",
    "            X[i,j] -= eps\n",
    "            f_minus = function(X)\n",
    "            X[i,j] += eps\n",
    "            \n",
    "            numerical_gradient_X[i, j] = (f_plus - f_minus) / (2*eps)\n",
    "    return numerical_gradient_X"
   ]
  },
  {
   "cell_type": "markdown",
   "id": "eaf12d4d-38da-450f-8386-385de86cdfa6",
   "metadata": {},
   "source": [
    "### TESTS_MY_LINEAR"
   ]
  },
  {
   "cell_type": "code",
   "execution_count": 20,
   "id": "b9f9499c-1fac-4f76-93ed-be05235fb349",
   "metadata": {},
   "outputs": [],
   "source": [
    "linear = LinearLayer(10, 5)"
   ]
  },
  {
   "cell_type": "code",
   "execution_count": 21,
   "id": "38da99a9-468d-4e1b-9ab0-be2a3d43e149",
   "metadata": {},
   "outputs": [
    {
     "name": "stdout",
     "output_type": "stream",
     "text": [
      "x_samples = array([[0.70173391, 0.62234927, 0.29400605, 0.70034947, 0.2256688 ,\n",
      "        0.70589995, 0.34431083, 0.75524233, 0.8364403 , 0.78463068]]) x_samples.shape =(1, 10)\n",
      "y_forward = array([[-1.44260411,  0.85023486, -0.07578245,  0.04297928, -0.82258471]])\n",
      "target = -0.28955142369344655\n"
     ]
    }
   ],
   "source": [
    "# sampling\n",
    "x_samples = np.random.random_sample((1, 10))\n",
    "print(f\"{x_samples = }\", f\"{x_samples.shape =}\")\n",
    "\n",
    "# test forward\n",
    "y_forward = linear.forward(x_samples)\n",
    "print(f\"{y_forward = }\")\n",
    "\n",
    "target = np.mean(y_forward)\n",
    "print(f\"{target = }\")"
   ]
  },
  {
   "cell_type": "code",
   "execution_count": 22,
   "id": "4d557768-8331-4538-8dde-a92a5a41b082",
   "metadata": {},
   "outputs": [],
   "source": [
    "# R^10 -> R^1\n",
    "def func(W, X = x_samples, lin = linear):\n",
    "    return np.mean(lin.forward(X))"
   ]
  },
  {
   "cell_type": "code",
   "execution_count": 23,
   "id": "5bd06d38-1986-47b8-8ec2-906ba24b5697",
   "metadata": {},
   "outputs": [
    {
     "data": {
      "text/plain": [
       "array([[0.1403469 , 0.1403469 , 0.1403469 , 0.1403469 , 0.14034662],\n",
       "       [0.12446988, 0.12447016, 0.12446988, 0.12446988, 0.12446988],\n",
       "       [0.05880102, 0.05880102, 0.0588013 , 0.0588013 , 0.0588013 ],\n",
       "       [0.14007018, 0.14007018, 0.1400699 , 0.1400699 , 0.1400699 ],\n",
       "       [0.04513362, 0.04513362, 0.04513362, 0.04513362, 0.04513362],\n",
       "       [0.14117985, 0.14117985, 0.14117985, 0.14117985, 0.14118012],\n",
       "       [0.06886242, 0.06886242, 0.06886214, 0.06886242, 0.06886242],\n",
       "       [0.15104806, 0.15104862, 0.15104862, 0.15104862, 0.15104862],\n",
       "       [0.16728785, 0.16728841, 0.16728785, 0.16728813, 0.16728813],\n",
       "       [0.15692586, 0.15692614, 0.15692614, 0.15692614, 0.15692586]])"
      ]
     },
     "execution_count": 23,
     "metadata": {},
     "output_type": "execute_result"
    }
   ],
   "source": [
    "calculate_gradient(func, linear.W)"
   ]
  },
  {
   "cell_type": "code",
   "execution_count": 24,
   "id": "6c058136-aa21-4819-8b02-a7a821da4311",
   "metadata": {},
   "outputs": [
    {
     "name": "stdout",
     "output_type": "stream",
     "text": [
      "[[0.14034678 0.14034678 0.14034678 0.14034678 0.14034678]\n",
      " [0.12446985 0.12446985 0.12446985 0.12446985 0.12446985]\n",
      " [0.05880121 0.05880121 0.05880121 0.05880121 0.05880121]\n",
      " [0.14006989 0.14006989 0.14006989 0.14006989 0.14006989]\n",
      " [0.04513376 0.04513376 0.04513376 0.04513376 0.04513376]\n",
      " [0.14117999 0.14117999 0.14117999 0.14117999 0.14117999]\n",
      " [0.06886217 0.06886217 0.06886217 0.06886217 0.06886217]\n",
      " [0.15104847 0.15104847 0.15104847 0.15104847 0.15104847]\n",
      " [0.16728806 0.16728806 0.16728806 0.16728806 0.16728806]\n",
      " [0.15692614 0.15692614 0.15692614 0.15692614 0.15692614]]\n"
     ]
    }
   ],
   "source": [
    "# dL/dy = d(1/10 * (y1 + y2 + y3 + ...)) / dy = (1/10, 1/10, 1/10, ... )\n",
    "dLdy = np.ones((1, 5)) / 5\n",
    "linear.backward(dLdy)\n",
    "print(linear.dLdw)"
   ]
  },
  {
   "cell_type": "code",
   "execution_count": 25,
   "id": "736bebc7-05c1-494a-92f8-e00c6df1a498",
   "metadata": {},
   "outputs": [],
   "source": [
    "EPS_ = 1e-5"
   ]
  },
  {
   "cell_type": "code",
   "execution_count": 26,
   "id": "578693b5-034c-4938-b15d-3462bab63e20",
   "metadata": {},
   "outputs": [
    {
     "data": {
      "text/plain": [
       "array([[ True,  True,  True,  True,  True],\n",
       "       [ True,  True,  True,  True,  True],\n",
       "       [ True,  True,  True,  True,  True],\n",
       "       [ True,  True,  True,  True,  True],\n",
       "       [ True,  True,  True,  True,  True],\n",
       "       [ True,  True,  True,  True,  True],\n",
       "       [ True,  True,  True,  True,  True],\n",
       "       [ True,  True,  True,  True,  True],\n",
       "       [ True,  True,  True,  True,  True],\n",
       "       [ True,  True,  True,  True,  True]])"
      ]
     },
     "execution_count": 26,
     "metadata": {},
     "output_type": "execute_result"
    }
   ],
   "source": [
    " calculate_gradient(func, linear.W) - linear.dLdw < EPS_"
   ]
  },
  {
   "cell_type": "code",
   "execution_count": 27,
   "id": "064a790f-dc45-43c1-b828-9b58997f8119",
   "metadata": {},
   "outputs": [
    {
     "data": {
      "text/plain": [
       "array([[0.20000002, 0.20000002, 0.20000002, 0.20000002, 0.20000002]])"
      ]
     },
     "execution_count": 27,
     "metadata": {},
     "output_type": "execute_result"
    }
   ],
   "source": [
    "calculate_gradient(func, linear.b)"
   ]
  },
  {
   "cell_type": "code",
   "execution_count": 28,
   "id": "1b71d44b-18d1-4796-8901-e61f5cdde01c",
   "metadata": {},
   "outputs": [
    {
     "data": {
      "text/plain": [
       "array([[0.2, 0.2, 0.2, 0.2, 0.2]])"
      ]
     },
     "execution_count": 28,
     "metadata": {},
     "output_type": "execute_result"
    }
   ],
   "source": [
    "linear.dLdb"
   ]
  },
  {
   "cell_type": "code",
   "execution_count": 29,
   "id": "f23e5acc-008a-4d2a-b226-835cd708444d",
   "metadata": {},
   "outputs": [
    {
     "data": {
      "text/plain": [
       "array([[ True,  True,  True,  True,  True]])"
      ]
     },
     "execution_count": 29,
     "metadata": {},
     "output_type": "execute_result"
    }
   ],
   "source": [
    "calculate_gradient(func, linear.b).reshape(1, -1) - linear.dLdb < EPS_"
   ]
  },
  {
   "cell_type": "markdown",
   "id": "a388b0d0-41f9-4fd4-a971-9ba07e71b341",
   "metadata": {},
   "source": [
    "### Численное решение и решение через градиент совпадает =)"
   ]
  },
  {
   "cell_type": "markdown",
   "id": "e5ebf89e-08c5-41a8-9ec9-c29f70611989",
   "metadata": {},
   "source": [
    "---------------------------"
   ]
  },
  {
   "cell_type": "code",
   "execution_count": 30,
   "id": "73bc1212-16d5-4f67-8733-eaaea650b2b3",
   "metadata": {},
   "outputs": [],
   "source": [
    "class ReLU:\n",
    "    def __init__(self):\n",
    "        pass\n",
    "    def forward(self, X):\n",
    "        self.X = X\n",
    "        self.Y = np.maximum(0, X)\n",
    "        return self.Y\n",
    "    def backward(self, dLdy):\n",
    "        dLdx = dLdy * (self.X > 0) \n",
    "        return dLdx\n",
    "    def step(self, lr):\n",
    "        pass"
   ]
  },
  {
   "cell_type": "code",
   "execution_count": 31,
   "id": "579c5df5-2d3d-4b72-a12b-ea6402e8af0c",
   "metadata": {},
   "outputs": [],
   "source": [
    "relu = ReLU()"
   ]
  },
  {
   "cell_type": "code",
   "execution_count": 32,
   "id": "d3d211a6-c9bd-4825-a254-5fefe6a98a91",
   "metadata": {},
   "outputs": [
    {
     "name": "stdout",
     "output_type": "stream",
     "text": [
      "x_samples=array([[ 3],\n",
      "       [ 2],\n",
      "       [ 5],\n",
      "       [-4],\n",
      "       [ 6],\n",
      "       [-4],\n",
      "       [ 9],\n",
      "       [-4],\n",
      "       [-3],\n",
      "       [-5]])\n"
     ]
    }
   ],
   "source": [
    "x_samples = np.random.randint(-5, 10, 10).reshape(10,1)\n",
    "print(f'{x_samples=}')"
   ]
  },
  {
   "cell_type": "code",
   "execution_count": 33,
   "id": "3a1d9c2b-4527-4c57-ad13-3b5d8d4d2b78",
   "metadata": {},
   "outputs": [
    {
     "data": {
      "text/plain": [
       "25"
      ]
     },
     "execution_count": 33,
     "metadata": {},
     "output_type": "execute_result"
    }
   ],
   "source": [
    "relu.forward(x_samples).sum()"
   ]
  },
  {
   "cell_type": "code",
   "execution_count": 34,
   "id": "df0dee6e-b20d-4e16-ab04-2c893dea7087",
   "metadata": {},
   "outputs": [],
   "source": [
    "def f(X, relu=relu):\n",
    "    return relu.forward(X).sum()"
   ]
  },
  {
   "cell_type": "code",
   "execution_count": 35,
   "id": "0906e27f-9834-4e3d-b792-0b30e0da3927",
   "metadata": {},
   "outputs": [
    {
     "data": {
      "text/plain": [
       "array([[ True],\n",
       "       [ True],\n",
       "       [ True],\n",
       "       [ True],\n",
       "       [ True],\n",
       "       [ True],\n",
       "       [ True],\n",
       "       [ True],\n",
       "       [ True],\n",
       "       [ True]])"
      ]
     },
     "execution_count": 35,
     "metadata": {},
     "output_type": "execute_result"
    }
   ],
   "source": [
    "relu.backward(np.ones((10,1))) - calculate_gradient(f, x_samples) < EPS_"
   ]
  },
  {
   "cell_type": "code",
   "execution_count": 36,
   "id": "55a699ca-99cc-454a-84bc-69679f992bdb",
   "metadata": {},
   "outputs": [],
   "source": [
    "class MSE:\n",
    "    def __init__(self):\n",
    "        pass\n",
    "    def forward(self, X, y):\n",
    "        self.n = len(X)\n",
    "        self.X = X\n",
    "        self.y = y\n",
    "        mse = ((self.X - self.y)**2).mean()\n",
    "        return mse\n",
    "    def backward(self):\n",
    "        dLdx = (2*(self.X - self.y)) / self.n\n",
    "        return dLdx\n",
    "    def step(self):\n",
    "        pass"
   ]
  },
  {
   "cell_type": "code",
   "execution_count": 37,
   "id": "51b7ef93-763a-4617-98e4-c2c98e2a12a5",
   "metadata": {},
   "outputs": [],
   "source": [
    "# structure: \n",
    "# input -> Dense(100) -> ReLU -> Dense(1) -> MSE\n",
    "class MLPRegressor:\n",
    "    def __init__(\n",
    "        self,\n",
    "        hidden_layer_size = 100,\n",
    "        learning_rate = 1e-4,\n",
    "        max_iter = 15,\n",
    "        batch_size = 10,\n",
    "        plot = False\n",
    "    ):\n",
    "        self.hls = hidden_layer_size\n",
    "        self.lr = learning_rate\n",
    "        self.iter = max_iter\n",
    "        self.batch_size = batch_size\n",
    "        self.layers = []\n",
    "        self.risk_function = MSE()\n",
    "        self.plot = plot\n",
    "                       \n",
    "    def fit(self, X, y):\n",
    "\n",
    "        size, dim = X.shape\n",
    "\n",
    "        self.layers.append(LinearLayer(dim, self.hls))\n",
    "        self.layers.append(ReLU())\n",
    "        self.layers.append(LinearLayer(self.hls, 1))\n",
    "\n",
    "        if self.plot:\n",
    "            fig = plt.figure(figsize=(15, 10))\n",
    "            ax = fig.add_subplot(222)\n",
    "            fig.suptitle('Gradient descent')\n",
    "        \n",
    "        errors = []\n",
    "        \n",
    "        for _ in range(self.iter):\n",
    "    \n",
    "            batch = np.random.choice(size, self.batch_size, replace=False)\n",
    "            X_batch = X[batch]\n",
    "            y_batch = y[batch]\n",
    "\n",
    "            pred = self.__forward(X_batch)\n",
    "\n",
    "            curr_loss = self.risk_function.forward(pred, y_batch)\n",
    "            errors.append(curr_loss)\n",
    "\n",
    "            gradient_of_rf = self.risk_function.backward()\n",
    "            self.__backward(gradient_of_rf)\n",
    "            # update weights\n",
    "            self.__step(self.lr)\n",
    "\n",
    "        if self.plot:\n",
    "            ax.plot(range(_+1), errors, 'g-')\n",
    "            ax.set_title('MSE')\n",
    "            ax.set_xlabel('itarations')\n",
    "            \n",
    "            \n",
    "\n",
    "    def __forward(self, X):\n",
    "        for l in self.layers:\n",
    "            X = l.forward(X)\n",
    "        return X\n",
    "\n",
    "    def __backward(self, dLdy):\n",
    "        for l in self.layers[::-1]:\n",
    "            dLdy = l.backward(dLdy)\n",
    "\n",
    "    def __step(self, learning_rate):\n",
    "        for l in self.layers:\n",
    "            l.step(learning_rate)\n",
    "\n",
    "    def predict(self, X):\n",
    "        predictions = []\n",
    "        size, dim = X.shape\n",
    "    \n",
    "        num_batches = size // self.batch_size\n",
    "    \n",
    "        for i in range(num_batches):\n",
    "            batch_start = i * self.batch_size\n",
    "            batch_end = (i + 1) * self.batch_size\n",
    "            batch_X = X[batch_start:batch_end]\n",
    "    \n",
    "            batch_predictions = self.__forward(batch_X)\n",
    "\n",
    "            predictions.append(batch_predictions)\n",
    "    \n",
    "        if size % self.batch_size != 0:\n",
    "\n",
    "            batch_X = X[num_batches * self.batch_size:]\n",
    "            \n",
    "            real_size = batch_X.shape[0]\n",
    "            diff = self.batch_size - batch_X.shape[0]\n",
    "            batch_X = np.concatenate((batch_X, np.zeros((diff, batch_X.shape[1]))), axis=0)\n",
    "            \n",
    "            batch_predictions = self.__forward(batch_X)\n",
    "            \n",
    "            predictions.append(batch_predictions[:real_size])\n",
    "\n",
    "    \n",
    "        all_predictions = np.concatenate(predictions, axis=0)\n",
    "    \n",
    "        return np.array(all_predictions)\n"
   ]
  },
  {
   "cell_type": "markdown",
   "id": "2afb2d95-c521-406d-b601-0baf84cb4a54",
   "metadata": {},
   "source": [
    "# Проверяем модель MLP на выборке Diamonds"
   ]
  },
  {
   "cell_type": "code",
   "execution_count": 181,
   "id": "2df8e839-fb8e-4cf7-84de-5637609bfbbb",
   "metadata": {},
   "outputs": [],
   "source": [
    "model = MLPRegressor(max_iter=2000, plot=True, batch_size=100, learning_rate=1e-5, hidden_layer_size=64)"
   ]
  },
  {
   "cell_type": "code",
   "execution_count": 182,
   "id": "98a86c5b-77a4-4d58-a04b-dc4968ec28a9",
   "metadata": {},
   "outputs": [
    {
     "data": {
      "image/png": "[encoded data removed]",
      "text/plain": [
       "<Figure size 1500x1000 with 1 Axes>"
      ]
     },
     "metadata": {},
     "output_type": "display_data"
    }
   ],
   "source": [
    "model.fit(X_train, y_train)"
   ]
  },
  {
   "cell_type": "code",
   "execution_count": 183,
   "id": "d378d366-c23e-4744-8ff7-78531bfe47f1",
   "metadata": {},
   "outputs": [],
   "source": [
    "y_pred_nn = model.predict(X_test)"
   ]
  },
  {
   "cell_type": "code",
   "execution_count": 64,
   "id": "5fcb5717-cc62-483d-9ecc-957a611b26be",
   "metadata": {},
   "outputs": [],
   "source": [
    "from sklearn.metrics import mean_squared_error"
   ]
  },
  {
   "cell_type": "code",
   "execution_count": 184,
   "id": "681a5b30-dd41-417b-983d-835268e33e43",
   "metadata": {},
   "outputs": [
    {
     "data": {
      "text/plain": [
       "999367.639510793"
      ]
     },
     "execution_count": 184,
     "metadata": {},
     "output_type": "execute_result"
    }
   ],
   "source": [
    "mean_squared_error(y_pred_nn, y_test)"
   ]
  },
  {
   "cell_type": "code",
   "execution_count": 186,
   "id": "0cf78b07-2c14-4166-9922-b6e454f5d4ad",
   "metadata": {},
   "outputs": [
    {
     "data": {
      "text/plain": [
       "0.9346941356285711"
      ]
     },
     "execution_count": 186,
     "metadata": {},
     "output_type": "execute_result"
    }
   ],
   "source": [
    "score_nn = r2_score(y_pred_nn, y_test)\n",
    "score_nn"
   ]
  },
  {
   "cell_type": "code",
   "execution_count": 187,
   "id": "13be40dc-984b-4fba-8668-19bde9d5b783",
   "metadata": {},
   "outputs": [
    {
     "data": {
      "image/png": "[encoded data removed]",
      "text/plain": [
       "<Figure size 640x480 with 1 Axes>"
      ]
     },
     "metadata": {},
     "output_type": "display_data"
    }
   ],
   "source": [
    "plt.title(f'R2: {str(score_nn)[:5]}')\n",
    "plt.hist(y_pred_nn.reshape(1, -1)[0], bins=100, label='PREDICTION')\n",
    "plt.hist(y_test.reshape(1, -1)[0], bins=100, label='GT')\n",
    "plt.legend()\n",
    "plt.grid();"
   ]
  },
  {
   "cell_type": "markdown",
   "id": "06adac7f-6f52-484e-9e24-2297f6568e4f",
   "metadata": {},
   "source": [
    "## R2 скор лучше)))))))"
   ]
  }
 ],
 "metadata": {
  "kernelspec": {
   "display_name": "Python 3 (ipykernel)",
   "language": "python",
   "name": "python3"
  },
  "language_info": {
   "codemirror_mode": {
    "name": "ipython",
    "version": 3
   },
   "file_extension": ".py",
   "mimetype": "text/x-python",
   "name": "python",
   "nbconvert_exporter": "python",
   "pygments_lexer": "ipython3",
   "version": "3.9.17"
  }
 },
 "nbformat": 4,
 "nbformat_minor": 5
}
